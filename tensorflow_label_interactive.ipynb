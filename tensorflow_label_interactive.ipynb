{
 "cells": [
  {
   "cell_type": "code",
   "execution_count": 8,
   "id": "a3512a26",
   "metadata": {},
   "outputs": [],
   "source": [
    "import PIL\n",
    "import shutil\n",
    "import os\n",
    "import re\n",
    "import warnings\n",
    "from time import time\n",
    "\n",
    "warnings.filterwarnings(\"ignore\")\n",
    "os.environ['TF_CPP_MIN_LOG_LEVEL'] = '3'\n",
    "## os.environ['TFHUB_CACHE_DIR'] = '/home/x/tfhub_modules'  # keep everything in here instead of in /tmp\n",
    "\n",
    "from numpy import r_, array\n",
    "import tensorflow as tf\n",
    "from PIL import Image\n",
    "from pathlib import Path\n",
    "import numpy as np\n",
    "from glob import glob\n",
    "import pandas as pd\n",
    "from tqdm import tqdm\n",
    "\n",
    "[tf.config.experimental.set_memory_growth(d, 1) for d in tf.config.list_physical_devices('GPU')]\n",
    "\n",
    "TIMES = []\n",
    "\n",
    "\n",
    "def guess(cache: str, model_path: str, input_size: tuple[int, ...], image_path: str) -> list:\n",
    "    img = r_[[array(Image.open(glob(f'{image_path}/*')[0]).resize(input_size)) / 255.]].astype(np.float32)\n",
    "    intp = tf.lite.Interpreter(model_path=f'{cache}/{model_path}')\n",
    "    intp.allocate_tensors()\n",
    "    intp.set_tensor(intp.get_input_details()[0]['index'], img)\n",
    "    intp.invoke()\n",
    "    tensor = intp.get_tensor(intp.get_output_details()[0]['index'])\n",
    "    cls = ...\n",
    "    if tensor.shape[1] == 1000:\n",
    "        cls = Path('labels/ilsvrc2012_wordnet_lemmas.txt').read_text().splitlines()\n",
    "    elif tensor.shape[1] == 1001:\n",
    "        cls = Path('labels/ImageNetLabels.txt').read_text().splitlines()\n",
    "    elif tensor.shape[1] == 21_843:\n",
    "        cls = Path('labels/imagenet21k_wordnet_lemmas.txt').read_text().splitlines()\n",
    "    return cls\n",
    "\n",
    "\n",
    "def run(cache: str, model_path: str, input_size: tuple[int, ...], labels: list, image_path: str):\n",
    "    image_paths = []\n",
    "    preds = []\n",
    "    images = list((lambda p, s: filter(re.compile(p).match, s))(r'.*\\.(jpg|png|jpeg)', glob(f'{image_path}/*')))\n",
    "    for image_path in images[:10]:\n",
    "        try:\n",
    "            img = r_[[array(Image.open(image_path).resize(input_size)) / 255.]].astype(np.float32)\n",
    "            intp = tf.lite.Interpreter(model_path=f'{cache}/{model_path}')\n",
    "            intp.allocate_tensors()\n",
    "            intp.set_tensor(intp.get_input_details()[0]['index'], img)\n",
    "            intp.invoke()\n",
    "            tensor = intp.get_tensor(intp.get_output_details()[0]['index'])\n",
    "            pred = labels[tf.math.argmax(tensor, axis=-1)[0]]\n",
    "            preds.append(pred)\n",
    "            image_paths.append(Path(image_path).name)\n",
    "\n",
    "        except (OSError, FileNotFoundError, PIL.UnidentifiedImageError) as e:\n",
    "            print('\\n', e)\n",
    "    return dict(zip(image_paths, preds))\n",
    "\n",
    "\n",
    "def infer(model_path: str, input_size: tuple[int, ...], image_path: str) -> dict:\n",
    "    start = time()\n",
    "    cache = 'models'\n",
    "    labels = guess(cache, model_path, input_size, image_path)\n",
    "    preds = run(cache, model_path, input_size, labels, image_path)\n",
    "    end = time() - start\n",
    "    TIMES.append([model_path, end])\n",
    "    return preds\n",
    "\n",
    "\n",
    "def undo_labeling(img_directory: str) -> None:\n",
    "    for d in [f for f in Path(img_directory).iterdir() if f.is_dir()]:\n",
    "        for img in d.iterdir():\n",
    "            new = d.parent / img.name\n",
    "            print('*', img, '->', new)\n",
    "            Path(img).rename(new)\n",
    "    [shutil.rmtree(p) for p in Path(img_directory).iterdir() if p.is_dir()]"
   ]
  },
  {
   "cell_type": "code",
   "execution_count": 12,
   "id": "b98c302f",
   "metadata": {
    "pycharm": {
     "name": "#%%\n"
    }
   },
   "outputs": [],
   "source": [
    "models = [\n",
    "    ('nasnet_mobile_classification_5_qt_16x8.tflite', (224, 224)),\n",
    "    ('nasnet_mobile_classification_5_qt_float16.tflite', (224, 224)),\n",
    "    ('mobilenet_v1_0.25_224.tflite',(224,224)),\n",
    "]"
   ]
  },
  {
   "cell_type": "markdown",
   "id": "157431f5",
   "metadata": {},
   "source": [
    "### Loop through models"
   ]
  },
  {
   "cell_type": "code",
   "execution_count": 20,
   "id": "3ade6cb7",
   "metadata": {
    "scrolled": true
   },
   "outputs": [],
   "source": [
    "preds = []\n",
    "for name, shape in tqdm(models, total=len(models)):\n",
    "    preds.append(infer(name, shape, 'images'))\n",
    "df = pd.DataFrame(preds)\n",
    "\n",
    "keywords = Path('keywords.txt').read_text().splitlines()\n",
    "\n",
    "images_and_classes = [[col, k] for k in keywords for col in df.columns if k in df[col].to_numpy()]\n",
    "print('found classes:', {x[1] for x in images_and_classes})"
   ]
  },
  {
   "cell_type": "code",
   "execution_count": 19,
   "id": "b76bfee4",
   "metadata": {},
   "outputs": [],
   "source": [
    "df.T.rename({i: name for i, name in enumerate(models)}, axis=1)"
   ]
  },
  {
   "cell_type": "code",
   "execution_count": 18,
   "id": "787044cc",
   "metadata": {
    "pycharm": {
     "name": "#%%\n"
    }
   },
   "outputs": [],
   "source": [
    "times = pd.DataFrame(TIMES, columns=['model', 't']).sort_values('t').reset_index(drop=True)\n",
    "times"
   ]
  },
  {
   "cell_type": "markdown",
   "id": "a5621918",
   "metadata": {
    "pycharm": {
     "name": "#%% md\n"
    }
   },
   "source": [
    "### Create class dirs"
   ]
  },
  {
   "cell_type": "code",
   "execution_count": 17,
   "id": "a785a7ab",
   "metadata": {
    "pycharm": {
     "name": "#%%\n"
    }
   },
   "outputs": [],
   "source": [
    "existing_classes = {f.name for f in Path(f'images').iterdir() if f.is_dir()}\n",
    "matched_classes = set(cls for _, cls in images_and_classes)\n",
    "classes = matched_classes - existing_classes\n",
    "\n",
    "print(f'creating new class dirs: {classes}')\n",
    "for cls in classes:\n",
    "    Path(f'images/{cls}').mkdir(parents=True, exist_ok=False)\n",
    "\n",
    "for img, cls in images_and_classes:\n",
    "    try:\n",
    "        o = f'images/{img}'\n",
    "        n = f'images/{cls}/{img}'\n",
    "        print(f'{o} -> {n}')\n",
    "        Path(o).rename(n)\n",
    "    except Exception as e:\n",
    "        print(e)"
   ]
  },
  {
   "cell_type": "markdown",
   "id": "bd639de8",
   "metadata": {
    "pycharm": {
     "name": "#%% md\n"
    }
   },
   "source": [
    "### Undo Labeling if needed"
   ]
  },
  {
   "cell_type": "code",
   "execution_count": null,
   "id": "25d5cf63",
   "metadata": {
    "pycharm": {
     "name": "#%%\n"
    }
   },
   "outputs": [],
   "source": [
    "# undo_labeling('images')"
   ]
  },
  {
   "cell_type": "markdown",
   "id": "a92fd66e",
   "metadata": {
    "pycharm": {
     "name": "#%% md\n"
    }
   },
   "source": []
  }
 ],
 "metadata": {
  "kernelspec": {
   "display_name": "Python 3 (ipykernel)",
   "language": "python",
   "name": "python3"
  },
  "language_info": {
   "codemirror_mode": {
    "name": "ipython",
    "version": 3
   },
   "file_extension": ".py",
   "mimetype": "text/x-python",
   "name": "python",
   "nbconvert_exporter": "python",
   "pygments_lexer": "ipython3",
   "version": "3.9.9"
  }
 },
 "nbformat": 4,
 "nbformat_minor": 5
}