{
 "cells": [
  {
   "cell_type": "code",
   "execution_count": 8,
   "id": "a3512a26",
   "metadata": {},
   "outputs": [],
   "source": [
    "import PIL\n",
    "import shutil\n",
    "import os\n",
    "import re\n",
    "import warnings\n",
    "from time import time\n",
    "\n",
    "warnings.filterwarnings(\"ignore\")\n",
    "os.environ['TF_CPP_MIN_LOG_LEVEL'] = '3'\n",
    "os.environ['TFHUB_CACHE_DIR'] = '/home/x/tfhub_modules'  # keep everything in here instead of in /tmp\n",
    "\n",
    "from numpy import r_, array\n",
    "import tensorflow as tf\n",
    "from PIL import Image\n",
    "from pathlib import Path\n",
    "import numpy as np\n",
    "from glob import glob\n",
    "import pandas as pd\n",
    "from tqdm import tqdm\n",
    "\n",
    "[tf.config.experimental.set_memory_growth(d, 1) for d in tf.config.list_physical_devices('GPU')]\n",
    "\n",
    "TIMES = []\n",
    "\n",
    "\n",
    "def guess(cache: str, model_path: str, input_size: tuple[int, ...], image_path: str) -> list:\n",
    "    \"\"\"\n",
    "    Crude guess function so that you don't have to input a label filename for each model.\n",
    "\n",
    "    :param cache: tfhub_modules cache dir\n",
    "    :param model_path: path to model\n",
    "    :param input_size: image dim that model expects\n",
    "    :param image_path: path to input image\n",
    "    :return: list of class labels\n",
    "    \"\"\"\n",
    "    img = r_[[array(Image.open(glob(f'{image_path}/*')[0]).resize(input_size)) / 255.]].astype(np.float32)\n",
    "    intp = tf.lite.Interpreter(model_path=f'{cache}/{model_path}')\n",
    "    intp.allocate_tensors()\n",
    "    intp.set_tensor(intp.get_input_details()[0]['index'], img)\n",
    "    intp.invoke()\n",
    "    tensor = intp.get_tensor(intp.get_output_details()[0]['index'])\n",
    "    cls = ...\n",
    "    if tensor.shape[1] == 1000:\n",
    "        cls = Path('labels/ilsvrc2012_wordnet_lemmas.txt').read_text().splitlines()\n",
    "    elif tensor.shape[1] == 1001:\n",
    "        cls = Path('labels/ImageNetLabels.txt').read_text().splitlines()\n",
    "    elif tensor.shape[1] == 21_843:\n",
    "        cls = Path('labels/imagenet21k_wordnet_lemmas.txt').read_text().splitlines()\n",
    "    return cls\n",
    "\n",
    "\n",
    "def run(cache: str, model_path: str, input_size: tuple[int, ...], labels: list, image_path: str):\n",
    "    image_paths = []\n",
    "    preds = []\n",
    "    images = list((lambda p, s: filter(re.compile(p).match, s))(r'.*\\.(jpg|png|jpeg)', glob(f'{image_path}/*')))\n",
    "    # print('# images = ', len(images))\n",
    "    for image_path in images[:10]:\n",
    "        try:\n",
    "            img = r_[[array(Image.open(image_path).resize(input_size)) / 255.]].astype(np.float32)\n",
    "            intp = tf.lite.Interpreter(model_path=f'{cache}/{model_path}')\n",
    "            intp.allocate_tensors()\n",
    "            intp.set_tensor(intp.get_input_details()[0]['index'], img)\n",
    "            intp.invoke()\n",
    "            tensor = intp.get_tensor(intp.get_output_details()[0]['index'])\n",
    "            pred = labels[tf.math.argmax(tensor, axis=-1)[0]]\n",
    "            preds.append(pred)\n",
    "            image_paths.append(Path(image_path).name)\n",
    "\n",
    "        except (OSError, FileNotFoundError, PIL.UnidentifiedImageError) as e:\n",
    "            print('\\n', e)\n",
    "    return dict(zip(image_paths, preds))\n",
    "\n",
    "\n",
    "def infer(model_path: str, input_size: tuple[int, ...], image_path: str) -> dict:\n",
    "    \"\"\"\n",
    "    Predict class labels for input images\n",
    "\n",
    "    :param model_path: path to model\n",
    "    :param input_size: image dimensions for 3 channel image\n",
    "    :param image_path: path to image\n",
    "    :return:\n",
    "\n",
    "    *Class labels are notoriously linked incorrectly in tensorflow hub. Ensure correct labels are downloaded.\n",
    "    ILSVRC 2012 - 1,000  classes - https://storage.googleapis.com/bit_models/ilsvrc2012_wordnet_lemmas.txt\n",
    "    ImageNet1K  - 1,001  classes - https://storage.googleapis.com/download.tensorflow.org/data/ImageNetLabels.txt\n",
    "    ImageNet21k - 21,843 classes - https://storage.googleapis.com/bit_models/imagenet21k_wordnet_lemmas.txt\n",
    "\n",
    "    \"\"\"\n",
    "    start = time()\n",
    "    # print(f'\\n{\"-\" * len(model_path)}\\n{model_path}\\n{\"-\" * len(model_path)}\\n')\n",
    "    cache = 'models'\n",
    "    labels = guess(cache, model_path, input_size, image_path)\n",
    "    preds = run(cache, model_path, input_size, labels, image_path)\n",
    "    end = time() - start\n",
    "    # print(f'{(end):.3f}')\n",
    "    TIMES.append([model_path, end])\n",
    "    return preds\n",
    "\n",
    "\n",
    "def undo_labeling(img_directory: str) -> None:\n",
    "    \"\"\"\n",
    "    Undo labeling performed by `label.py`\n",
    "\n",
    "    :param img_directory: path to image directory that previously had it's contents labeled\n",
    "    :return: None\n",
    "    \"\"\"\n",
    "    # move images out of directories\n",
    "    for d in [f for f in Path(img_directory).iterdir() if f.is_dir()]:\n",
    "        for img in d.iterdir():\n",
    "            new = d.parent / img.name\n",
    "            print('*', img, '->', new)\n",
    "            Path(img).rename(new)\n",
    "    # remove directories\n",
    "    [shutil.rmtree(p) for p in Path(img_directory).iterdir() if p.is_dir()]"
   ]
  },
  {
   "cell_type": "code",
   "execution_count": 12,
   "id": "b98c302f",
   "metadata": {
    "pycharm": {
     "name": "#%%\n"
    }
   },
   "outputs": [],
   "source": [
    "models = [\n",
    "    ('nasnet_mobile_classification_5_qt_16x8.tflite', (224, 224)),\n",
    "    ('nasnet_mobile_classification_5_qt_float16.tflite', (224, 224)),\n",
    "    ('mobilenet_v1_0.25_224.tflite',(224,224)),\n",
    "]"
   ]
  },
  {
   "cell_type": "markdown",
   "id": "157431f5",
   "metadata": {},
   "source": [
    "### Loop through models"
   ]
  },
  {
   "cell_type": "code",
   "execution_count": 13,
   "id": "3ade6cb7",
   "metadata": {
    "scrolled": true
   },
   "outputs": [
    {
     "name": "stderr",
     "output_type": "stream",
     "text": [
      "100%|██████████| 3/3 [00:10<00:00,  3.57s/it]"
     ]
    },
    {
     "name": "stdout",
     "output_type": "stream",
     "text": [
      "found classes: set()\n"
     ]
    },
    {
     "name": "stderr",
     "output_type": "stream",
     "text": [
      "\n"
     ]
    }
   ],
   "source": [
    "preds = []\n",
    "for name, shape in tqdm(models, total=len(models)):\n",
    "    preds.append(infer(name, shape, 'images'))\n",
    "df = pd.DataFrame(preds)\n",
    "\n",
    "keywords = Path('keywords.txt').read_text().splitlines()\n",
    "\n",
    "images_and_classes = [[col, k] for k in keywords for col in df.columns if k in df[col].to_numpy()]\n",
    "print('found classes:', {x[1] for x in images_and_classes})"
   ]
  },
  {
   "cell_type": "code",
   "execution_count": 14,
   "id": "b76bfee4",
   "metadata": {},
   "outputs": [
    {
     "data": {
      "text/plain": "               (nasnet_mobile_classification_5_qt_16x8.tflite, (224, 224))  \\\n1480305774.jpg                                              stage            \n1480385041.jpg                                                pot            \n1480813997.jpg                                      traffic light            \n1482075542.jpg                                        Siamese cat            \n1482180008.jpg                                                pot            \n1482256683.jpg                                              abaya            \n1482382512.jpg                                       sliding door            \n1482984597.jpg                                 Labrador retriever            \n1485405339.jpg                                       sleeping bag            \n1487219423.jpg                                              stage            \n\n               (nasnet_mobile_classification_5_qt_float16.tflite, (224, 224))  \\\n1480305774.jpg                                              stage               \n1480385041.jpg                                                pot               \n1480813997.jpg                                      traffic light               \n1482075542.jpg                                        Siamese cat               \n1482180008.jpg                                                pot               \n1482256683.jpg                                              abaya               \n1482382512.jpg                                       sliding door               \n1482984597.jpg                                 Labrador retriever               \n1485405339.jpg                                       sleeping bag               \n1487219423.jpg                                              stage               \n\n               (mobilenet_v1_0.25_224.tflite, (224, 224))  \n1480305774.jpg                                 hammerhead  \n1480385041.jpg                                sea anemone  \n1480813997.jpg                                   flagpole  \n1482075542.jpg                                Siamese cat  \n1482180008.jpg                                  jellyfish  \n1482256683.jpg                                  hoopskirt  \n1482382512.jpg                               sliding door  \n1482984597.jpg                             potter's wheel  \n1485405339.jpg                                oxygen mask  \n1487219423.jpg                                bathing cap  ",
      "text/html": "<div>\n<style scoped>\n    .dataframe tbody tr th:only-of-type {\n        vertical-align: middle;\n    }\n\n    .dataframe tbody tr th {\n        vertical-align: top;\n    }\n\n    .dataframe thead th {\n        text-align: right;\n    }\n</style>\n<table border=\"1\" class=\"dataframe\">\n  <thead>\n    <tr style=\"text-align: right;\">\n      <th></th>\n      <th>(nasnet_mobile_classification_5_qt_16x8.tflite, (224, 224))</th>\n      <th>(nasnet_mobile_classification_5_qt_float16.tflite, (224, 224))</th>\n      <th>(mobilenet_v1_0.25_224.tflite, (224, 224))</th>\n    </tr>\n  </thead>\n  <tbody>\n    <tr>\n      <th>1480305774.jpg</th>\n      <td>stage</td>\n      <td>stage</td>\n      <td>hammerhead</td>\n    </tr>\n    <tr>\n      <th>1480385041.jpg</th>\n      <td>pot</td>\n      <td>pot</td>\n      <td>sea anemone</td>\n    </tr>\n    <tr>\n      <th>1480813997.jpg</th>\n      <td>traffic light</td>\n      <td>traffic light</td>\n      <td>flagpole</td>\n    </tr>\n    <tr>\n      <th>1482075542.jpg</th>\n      <td>Siamese cat</td>\n      <td>Siamese cat</td>\n      <td>Siamese cat</td>\n    </tr>\n    <tr>\n      <th>1482180008.jpg</th>\n      <td>pot</td>\n      <td>pot</td>\n      <td>jellyfish</td>\n    </tr>\n    <tr>\n      <th>1482256683.jpg</th>\n      <td>abaya</td>\n      <td>abaya</td>\n      <td>hoopskirt</td>\n    </tr>\n    <tr>\n      <th>1482382512.jpg</th>\n      <td>sliding door</td>\n      <td>sliding door</td>\n      <td>sliding door</td>\n    </tr>\n    <tr>\n      <th>1482984597.jpg</th>\n      <td>Labrador retriever</td>\n      <td>Labrador retriever</td>\n      <td>potter's wheel</td>\n    </tr>\n    <tr>\n      <th>1485405339.jpg</th>\n      <td>sleeping bag</td>\n      <td>sleeping bag</td>\n      <td>oxygen mask</td>\n    </tr>\n    <tr>\n      <th>1487219423.jpg</th>\n      <td>stage</td>\n      <td>stage</td>\n      <td>bathing cap</td>\n    </tr>\n  </tbody>\n</table>\n</div>"
     },
     "execution_count": 14,
     "metadata": {},
     "output_type": "execute_result"
    }
   ],
   "source": [
    "df.T.rename({i: name for i, name in enumerate(models)}, axis=1)"
   ]
  },
  {
   "cell_type": "code",
   "execution_count": 15,
   "id": "787044cc",
   "metadata": {
    "pycharm": {
     "name": "#%%\n"
    }
   },
   "outputs": [
    {
     "data": {
      "text/plain": "                                              model         t\n0                      mobilenet_v1_0.25_224.tflite  0.501660\n1                      mobilenet_v1_0.25_224.tflite  0.562329\n2  nasnet_mobile_classification_5_qt_float16.tflite  1.905808\n3  nasnet_mobile_classification_5_qt_float16.tflite  2.347075\n4     nasnet_mobile_classification_5_qt_16x8.tflite  7.747859\n5     nasnet_mobile_classification_5_qt_16x8.tflite  8.244617",
      "text/html": "<div>\n<style scoped>\n    .dataframe tbody tr th:only-of-type {\n        vertical-align: middle;\n    }\n\n    .dataframe tbody tr th {\n        vertical-align: top;\n    }\n\n    .dataframe thead th {\n        text-align: right;\n    }\n</style>\n<table border=\"1\" class=\"dataframe\">\n  <thead>\n    <tr style=\"text-align: right;\">\n      <th></th>\n      <th>model</th>\n      <th>t</th>\n    </tr>\n  </thead>\n  <tbody>\n    <tr>\n      <th>0</th>\n      <td>mobilenet_v1_0.25_224.tflite</td>\n      <td>0.501660</td>\n    </tr>\n    <tr>\n      <th>1</th>\n      <td>mobilenet_v1_0.25_224.tflite</td>\n      <td>0.562329</td>\n    </tr>\n    <tr>\n      <th>2</th>\n      <td>nasnet_mobile_classification_5_qt_float16.tflite</td>\n      <td>1.905808</td>\n    </tr>\n    <tr>\n      <th>3</th>\n      <td>nasnet_mobile_classification_5_qt_float16.tflite</td>\n      <td>2.347075</td>\n    </tr>\n    <tr>\n      <th>4</th>\n      <td>nasnet_mobile_classification_5_qt_16x8.tflite</td>\n      <td>7.747859</td>\n    </tr>\n    <tr>\n      <th>5</th>\n      <td>nasnet_mobile_classification_5_qt_16x8.tflite</td>\n      <td>8.244617</td>\n    </tr>\n  </tbody>\n</table>\n</div>"
     },
     "execution_count": 15,
     "metadata": {},
     "output_type": "execute_result"
    }
   ],
   "source": [
    "times = pd.DataFrame(TIMES, columns=['model', 't']).sort_values('t').reset_index(drop=True)\n",
    "times"
   ]
  },
  {
   "cell_type": "markdown",
   "id": "a5621918",
   "metadata": {
    "pycharm": {
     "name": "#%% md\n"
    }
   },
   "source": [
    "### Create class dirs"
   ]
  },
  {
   "cell_type": "code",
   "execution_count": 16,
   "id": "a785a7ab",
   "metadata": {
    "pycharm": {
     "name": "#%%\n"
    }
   },
   "outputs": [
    {
     "name": "stdout",
     "output_type": "stream",
     "text": [
      "creating new class dirs: set()\n"
     ]
    }
   ],
   "source": [
    "existing_classes = {f.name for f in Path(f'images').iterdir() if f.is_dir()}\n",
    "matched_classes = set(cls for _, cls in images_and_classes)\n",
    "classes = matched_classes - existing_classes\n",
    "\n",
    "print(f'creating new class dirs: {classes}')\n",
    "for cls in classes:\n",
    "    Path(f'images/{cls}').mkdir(parents=True, exist_ok=False)\n",
    "\n",
    "for img, cls in images_and_classes:\n",
    "    try:\n",
    "        o = f'images/{img}'\n",
    "        n = f'images/{cls}/{img}'\n",
    "        print(f'{o} -> {n}')\n",
    "        Path(o).rename(n)\n",
    "    except Exception as e:\n",
    "        print(e)"
   ]
  },
  {
   "cell_type": "markdown",
   "id": "bd639de8",
   "metadata": {
    "pycharm": {
     "name": "#%% md\n"
    }
   },
   "source": [
    "### Undo Labeling if needed"
   ]
  },
  {
   "cell_type": "code",
   "execution_count": null,
   "id": "25d5cf63",
   "metadata": {
    "pycharm": {
     "name": "#%%\n"
    }
   },
   "outputs": [],
   "source": [
    "# undo_labeling('images')"
   ]
  },
  {
   "cell_type": "markdown",
   "id": "a92fd66e",
   "metadata": {
    "pycharm": {
     "name": "#%% md\n"
    }
   },
   "source": []
  }
 ],
 "metadata": {
  "kernelspec": {
   "display_name": "Python 3 (ipykernel)",
   "language": "python",
   "name": "python3"
  },
  "language_info": {
   "codemirror_mode": {
    "name": "ipython",
    "version": 3
   },
   "file_extension": ".py",
   "mimetype": "text/x-python",
   "name": "python",
   "nbconvert_exporter": "python",
   "pygments_lexer": "ipython3",
   "version": "3.9.9"
  }
 },
 "nbformat": 4,
 "nbformat_minor": 5
}