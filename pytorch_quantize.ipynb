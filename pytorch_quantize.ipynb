{
 "cells": [
  {
   "cell_type": "code",
   "execution_count": 7,
   "metadata": {
    "collapsed": true
   },
   "outputs": [],
   "source": [
    "import timm\n",
    "import torch\n",
    "from torch.jit import script\n",
    "from torch.quantization import quantize_dynamic, get_default_qconfig"
   ]
  },
  {
   "cell_type": "code",
   "execution_count": 8,
   "outputs": [],
   "source": [
    "name = 'deit_small_distilled_patch16_224'\n",
    "model = timm.create_model(name, pretrained=True).eval()\n",
    "model.qconfig = get_default_qconfig()\n",
    "script(quantize_dynamic(model, qconfig_spec={torch.nn.Linear}, dtype=torch.qint8)).save(f\"models/{name}_sq.pt\")"
   ],
   "metadata": {
    "collapsed": false,
    "pycharm": {
     "name": "#%%\n"
    }
   }
  }
 ],
 "metadata": {
  "kernelspec": {
   "display_name": "Python 3",
   "language": "python",
   "name": "python3"
  },
  "language_info": {
   "codemirror_mode": {
    "name": "ipython",
    "version": 2
   },
   "file_extension": ".py",
   "mimetype": "text/x-python",
   "name": "python",
   "nbconvert_exporter": "python",
   "pygments_lexer": "ipython2",
   "version": "2.7.6"
  }
 },
 "nbformat": 4,
 "nbformat_minor": 0
}