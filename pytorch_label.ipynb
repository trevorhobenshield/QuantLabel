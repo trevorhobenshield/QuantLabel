{
 "cells": [
  {
   "cell_type": "code",
   "execution_count": 1,
   "metadata": {
    "collapsed": true
   },
   "outputs": [],
   "source": [
    "import shutil\n",
    "from pathlib import Path\n",
    "\n",
    "import torch\n",
    "from torchvision.transforms import Compose, InterpolationMode, Resize, CenterCrop, ToTensor, Normalize\n",
    "from PIL import Image\n",
    "from joblib import Parallel, delayed\n",
    "from timm.data.constants import IMAGENET_DEFAULT_MEAN, IMAGENET_DEFAULT_STD\n",
    "from torch.jit import ScriptModule\n",
    "from tqdm.notebook import tqdm\n",
    "\n",
    "# !wget -O \"../../labels/ImageNetLabels.txt\" https://storage.googleapis.com/download.tensorflow.org/data/ImageNetLabels.txt\n",
    "\n",
    "CLASS_MAP = {i - 1: v for i, v in enumerate(Path('labels/ImageNetLabels.txt').read_text().splitlines())}\n",
    "IMAGE_FILES_PATH = 'images/'\n",
    "\n",
    "transform = Compose([\n",
    "    Resize(256, InterpolationMode.LANCZOS),\n",
    "    CenterCrop(224),\n",
    "    ToTensor(),\n",
    "    Normalize(IMAGENET_DEFAULT_MEAN, IMAGENET_DEFAULT_STD),\n",
    "])"
   ]
  },
  {
   "cell_type": "code",
   "execution_count": 2,
   "outputs": [],
   "source": [
    "model = torch.jit.load(\"deit_small_distilled_patch16_224_sq.pt\")"
   ],
   "metadata": {
    "collapsed": false,
    "pycharm": {
     "name": "#%%\n"
    }
   }
  },
  {
   "cell_type": "code",
   "execution_count": 3,
   "outputs": [],
   "source": [
    "def run(model: ScriptModule, filename: Path, classes: dict) -> None:\n",
    "    img = transform(Image.open(filename))[None,]\n",
    "    probs = model(img)\n",
    "    top_pred = torch.argmax(probs)\n",
    "    pred_label = Path(classes[top_pred.item()].replace(' ', '_'))\n",
    "    try:\n",
    "        (filename.parent / pred_label).mkdir()\n",
    "    except FileExistsError:\n",
    "        ...\n",
    "    filename.rename(filename.parent / pred_label / filename.name)\n",
    "\n",
    "\n",
    "def label(model: ScriptModule, root_dir: Path, class_map: dict) -> None:\n",
    "    # freezes if threads not specified\n",
    "    images = list(Path(root_dir).iterdir())\n",
    "    Parallel(n_jobs=-1, prefer='threads')(\n",
    "        delayed(run)(model, img, class_map) for img in tqdm(images,total=len(images)))"
   ],
   "metadata": {
    "collapsed": false,
    "pycharm": {
     "name": "#%%\n"
    }
   }
  },
  {
   "cell_type": "code",
   "execution_count": 4,
   "outputs": [],
   "source": [
    "def unlabel(root_dir: str) -> None:\n",
    "    dirs = [p.iterdir() for p in Path(root_dir).iterdir() if p.is_dir()]\n",
    "    [f.rename(f.parent.parent / f.name) for d in dirs for f in d]\n",
    "    [shutil.rmtree(p) for p in Path(root_dir).iterdir() if p.is_dir()]"
   ],
   "metadata": {
    "collapsed": false,
    "pycharm": {
     "name": "#%%\n"
    }
   }
  },
  {
   "cell_type": "code",
   "execution_count": 5,
   "outputs": [],
   "source": [
    "label(model, IMAGE_FILES_PATH, CLASS_MAP)"
   ],
   "metadata": {
    "collapsed": false,
    "pycharm": {
     "name": "#%%\n"
    }
   }
  },
  {
   "cell_type": "code",
   "execution_count": 7,
   "outputs": [],
   "source": [
    "# unlabel(IMAGE_FILES_PATH)"
   ],
   "metadata": {
    "collapsed": false,
    "pycharm": {
     "name": "#%%\n"
    }
   }
  }
 ],
 "metadata": {
  "kernelspec": {
   "display_name": "Python 3",
   "language": "python",
   "name": "python3"
  },
  "language_info": {
   "codemirror_mode": {
    "name": "ipython",
    "version": 2
   },
   "file_extension": ".py",
   "mimetype": "text/x-python",
   "name": "python",
   "nbconvert_exporter": "python",
   "pygments_lexer": "ipython2",
   "version": "2.7.6"
  }
 },
 "nbformat": 4,
 "nbformat_minor": 0
}